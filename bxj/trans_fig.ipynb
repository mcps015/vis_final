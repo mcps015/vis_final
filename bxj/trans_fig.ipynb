{
 "cells": [
  {
   "cell_type": "code",
   "execution_count": 2,
   "metadata": {},
   "outputs": [],
   "source": [
    "import pandas as pd\n",
    "import os"
   ]
  },
  {
   "cell_type": "code",
   "execution_count": 3,
   "metadata": {},
   "outputs": [
    {
     "name": "stdout",
     "output_type": "stream",
     "text": [
      "C:\\Users\\USER\\Desktop\\vis\\output\\bxj\n"
     ]
    }
   ],
   "source": [
    "# 目前資料夾\n",
    "cwd = os.getcwd()\n",
    "print(cwd)\n",
    "\n",
    "# 待處理的csv資料夾\n",
    "read_path = 'fightTerms_100Terms'\n",
    "\n",
    "# 儲存csv資料夾\n",
    "save_path = '__fightTerms_100Terms'"
   ]
  },
  {
   "cell_type": "code",
   "execution_count": 4,
   "metadata": {},
   "outputs": [],
   "source": [
    "# # if cwd == r'C:\\Users\\USER\\Desktop\\vis\\fightTerms_100Terms':\n",
    "\n",
    "# # 上一層資料夾\n",
    "# parent_path = os.path.abspath(\"..\")\n",
    "\n",
    "# # 移動到上一層資料夾\n",
    "# os.chdir(parent_path)\n",
    "\n",
    "# # 目前資料夾\n",
    "# cwd = os.getcwd()\n",
    "# print(cwd)"
   ]
  },
  {
   "cell_type": "code",
   "execution_count": 5,
   "metadata": {},
   "outputs": [],
   "source": [
    "# 移動到存放csv的資料夾\n",
    "os.chdir(read_path)\n",
    "\n",
    "# 取得所有csv\n",
    "csv_name_list = os.listdir()\n",
    "\n",
    "# 讀取\n",
    "#df = pd.read_csv(csv_name_list[0])\n",
    "\n"
   ]
  },
  {
   "cell_type": "code",
   "execution_count": 6,
   "metadata": {},
   "outputs": [
    {
     "name": "stdout",
     "output_type": "stream",
     "text": [
      "22\n",
      "1.csv\n"
     ]
    }
   ],
   "source": [
    "print(len(csv_name_list))\n",
    "print(csv_name_list[0])\n"
   ]
  },
  {
   "cell_type": "code",
   "execution_count": 7,
   "metadata": {
    "scrolled": true
   },
   "outputs": [],
   "source": [
    "for csv_name in csv_name_list:\n",
    "    \n",
    "    data = pd.read_csv(csv_name)\n",
    "\n",
    "    value = [int(data.columns[0])]\n",
    "\n",
    "    variable = []\n",
    "    var = 41\n",
    "\n",
    "    group = []\n",
    "    grp = {0:'A', 1:'B', 2:'C', 3:'D', 4:'E', 5:'F', 6:'G', 7:'H', 8:'I', 9:'J'}\n",
    "\n",
    "\n",
    "    for i in range(len(data)+1):\n",
    "        if i < len(data):\n",
    "            value.append(data.iloc[i, 0])\n",
    "\n",
    "        if (i)%10 == 0:\n",
    "            var-=1\n",
    "\n",
    "        variable.append('v'+str(var))\n",
    "        group.append(grp[i%10])\n",
    "\n",
    "\n",
    "    data_dict = {'group':group, 'variable':variable, 'value':value}\n",
    "    output = pd.DataFrame(data_dict)\n",
    "    output.to_csv(cwd +'\\\\'+ save_path +'\\\\'+ csv_name, index=False, encoding=\"utf-8-sig\")"
   ]
  },
  {
   "cell_type": "code",
   "execution_count": 8,
   "metadata": {},
   "outputs": [],
   "source": [
    "# print(value)\n",
    "# print(len(value))"
   ]
  },
  {
   "cell_type": "code",
   "execution_count": 9,
   "metadata": {},
   "outputs": [],
   "source": [
    "# print(variable)\n",
    "# print(len(variable))"
   ]
  },
  {
   "cell_type": "code",
   "execution_count": 10,
   "metadata": {},
   "outputs": [],
   "source": [
    "# print(group)\n",
    "# print(len(group))"
   ]
  },
  {
   "cell_type": "code",
   "execution_count": null,
   "metadata": {},
   "outputs": [],
   "source": []
  }
 ],
 "metadata": {
  "kernelspec": {
   "display_name": "Python 3",
   "language": "python",
   "name": "python3"
  },
  "language_info": {
   "codemirror_mode": {
    "name": "ipython",
    "version": 3
   },
   "file_extension": ".py",
   "mimetype": "text/x-python",
   "name": "python",
   "nbconvert_exporter": "python",
   "pygments_lexer": "ipython3",
   "version": "3.7.3"
  }
 },
 "nbformat": 4,
 "nbformat_minor": 4
}
